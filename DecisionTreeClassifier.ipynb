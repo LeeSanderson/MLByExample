{
 "cells": [
  {
   "cell_type": "markdown",
   "metadata": {},
   "source": [
    "# Decision Tree Classifier\n",
    "\n",
    "An example showing how [SciKit Learn's Decision Trees](https://scikit-learn.org/stable/modules/tree.html) can be used to solve classification type problems by trying to predict survivors of Titanic.\n"
   ]
  },
  {
   "cell_type": "code",
   "execution_count": 1,
   "metadata": {},
   "outputs": [],
   "source": [
    "# %pip install --quiet --upgrade pip \n",
    "# %pip install numpy --quiet\n",
    "# %pip install PyArrow --quiet\n",
    "# %pip install Pandas --quiet\n",
    "# %pip install scikit-learn --quiet"
   ]
  },
  {
   "cell_type": "code",
   "execution_count": 2,
   "metadata": {},
   "outputs": [],
   "source": [
    "import pandas as pd\n",
    "from sklearn.model_selection import train_test_split\n",
    "from sklearn.metrics import accuracy_score\n",
    "from sklearn import tree"
   ]
  },
  {
   "cell_type": "code",
   "execution_count": 3,
   "metadata": {},
   "outputs": [
    {
     "data": {
      "text/plain": [
       "Index(['PassengerId', 'Survived', 'Pclass', 'Name', 'Sex', 'Age', 'SibSp',\n",
       "       'Parch', 'Ticket', 'Fare', 'Cabin', 'Embarked'],\n",
       "      dtype='object')"
      ]
     },
     "execution_count": 3,
     "metadata": {},
     "output_type": "execute_result"
    }
   ],
   "source": [
    "titanic_data = pd.read_csv(\"Data/titanic_train.csv\")\n",
    "titanic_data.columns"
   ]
  },
  {
   "cell_type": "markdown",
   "metadata": {},
   "source": [
    "## Women and children first\n",
    "\n",
    "Our first hypothesis will be that woman and children were more likely to be given a place on the lifeboats and therefore will have survived. Based on this hypothesis we will use the Sex and Age columns as predictors of survival."
   ]
  },
  {
   "cell_type": "markdown",
   "metadata": {},
   "source": [
    "## Data Wrangling \n",
    "\n",
    "SciKit Learn's [Decision Tree](https://scikit-learn.org/stable/modules/tree.html) does not support categorical variables (see: [#5442](https://github.com/scikit-learn/scikit-learn/issues/5442)). We therefore need to one-hot encode any categorical variables we want to use as predictors."
   ]
  },
  {
   "cell_type": "code",
   "execution_count": 4,
   "metadata": {},
   "outputs": [],
   "source": [
    "def onehot_encode(df : pd.DataFrame, column_name: str) -> tuple[pd.DataFrame, list[str]]:\n",
    "    categories = [f\"{column_name}_{value}\" for value in df[column_name].unique()]\n",
    "    df = df.drop(categories, axis=1, errors=\"ignore\") # remove the categorical variables (if we previous called onehot_encode)\n",
    "    temp_column_name = f\"{column_name}_Temp\"\n",
    "    df[temp_column_name] = df[column_name] # get_dummies will remove to column, so copy the data to temp column\n",
    "    df = pd.get_dummies(df, prefix=column_name, columns=[temp_column_name], dtype=float)\n",
    "    return df, categories"
   ]
  },
  {
   "cell_type": "code",
   "execution_count": 5,
   "metadata": {},
   "outputs": [
    {
     "data": {
      "text/plain": [
       "Sex_male  Sex_female\n",
       "1.0       0.0           577\n",
       "0.0       1.0           314\n",
       "Name: count, dtype: int64"
      ]
     },
     "execution_count": 5,
     "metadata": {},
     "output_type": "execute_result"
    }
   ],
   "source": [
    "\n",
    "titanic_data, gender_categories = onehot_encode(titanic_data, \"Sex\")\n",
    "titanic_data[gender_categories].value_counts()"
   ]
  },
  {
   "cell_type": "markdown",
   "metadata": {},
   "source": [
    "Now split the data into training and validation sets so we can evaluate the success of our model."
   ]
  },
  {
   "cell_type": "code",
   "execution_count": 6,
   "metadata": {},
   "outputs": [],
   "source": [
    "train, validate = train_test_split(titanic_data, test_size=0.2, random_state=42)"
   ]
  },
  {
   "cell_type": "markdown",
   "metadata": {},
   "source": [
    "## Creating the model"
   ]
  },
  {
   "cell_type": "code",
   "execution_count": 7,
   "metadata": {},
   "outputs": [
    {
     "name": "stdout",
     "output_type": "stream",
     "text": [
      "|--- Sex_male <= 0.50\n",
      "|   |--- Age <= 21.50\n",
      "|   |   |--- class: 1\n",
      "|   |--- Age >  21.50\n",
      "|   |   |--- class: 1\n",
      "|--- Sex_male >  0.50\n",
      "|   |--- Age <= 6.50\n",
      "|   |   |--- class: 1\n",
      "|   |--- Age >  6.50\n",
      "|   |   |--- class: 0\n",
      "\n"
     ]
    }
   ],
   "source": [
    "predictors = [\"Age\"] + gender_categories\n",
    "prediction = \"Survived\"\n",
    "\n",
    "x = train[predictors]\n",
    "y = train[[prediction]].values\n",
    "\n",
    "decision_tree = tree.DecisionTreeClassifier(max_depth=2, random_state=42)\n",
    "decision_tree.fit(x, y)\n",
    "\n",
    "print(tree.export_text(decision_tree, feature_names=predictors))"
   ]
  },
  {
   "cell_type": "markdown",
   "metadata": {},
   "source": [
    "## Evaluate the model"
   ]
  },
  {
   "cell_type": "code",
   "execution_count": 8,
   "metadata": {},
   "outputs": [
    {
     "name": "stdout",
     "output_type": "stream",
     "text": [
      "Simple \"Women and children first\" hypothesis has accuracy of: 78.21%\n"
     ]
    }
   ],
   "source": [
    "predictions = decision_tree.predict(validate[predictors])\n",
    "actuals = validate[[prediction]].values\n",
    "\n",
    "score = accuracy_score(actuals, predictions)\n",
    "print(f'Simple \"Women and children first\" hypothesis has accuracy of: {score *100:.2f}%')"
   ]
  },
  {
   "cell_type": "markdown",
   "metadata": {},
   "source": [
    "## Is class a factor?\n",
    "\n",
    "Let's see if we can improve the accuracy of our decision tree by adding the ticket class into the model.\n",
    "Our hypothesis here is that 1st class passengers are closer to the lifeboats and will more easily be able to reach them."
   ]
  },
  {
   "cell_type": "code",
   "execution_count": 9,
   "metadata": {},
   "outputs": [
    {
     "data": {
      "text/plain": [
       "Pclass_3  Pclass_1  Pclass_2\n",
       "1.0       0.0       0.0         491\n",
       "0.0       1.0       0.0         216\n",
       "          0.0       1.0         184\n",
       "Name: count, dtype: int64"
      ]
     },
     "execution_count": 9,
     "metadata": {},
     "output_type": "execute_result"
    }
   ],
   "source": [
    "titanic_data, class_categories = onehot_encode(titanic_data, \"Pclass\")\n",
    "titanic_data[class_categories].value_counts()"
   ]
  },
  {
   "cell_type": "code",
   "execution_count": 10,
   "metadata": {},
   "outputs": [
    {
     "name": "stdout",
     "output_type": "stream",
     "text": [
      "|--- Sex_male <= 0.50\n",
      "|   |--- Pclass_3 <= 0.50\n",
      "|   |   |--- Age <= 2.50\n",
      "|   |   |   |--- class: 0\n",
      "|   |   |--- Age >  2.50\n",
      "|   |   |   |--- class: 1\n",
      "|   |--- Pclass_3 >  0.50\n",
      "|   |   |--- Age <= 36.50\n",
      "|   |   |   |--- class: 1\n",
      "|   |   |--- Age >  36.50\n",
      "|   |   |   |--- class: 0\n",
      "|--- Sex_male >  0.50\n",
      "|   |--- Age <= 6.50\n",
      "|   |   |--- Pclass_3 <= 0.50\n",
      "|   |   |   |--- class: 1\n",
      "|   |   |--- Pclass_3 >  0.50\n",
      "|   |   |   |--- class: 0\n",
      "|   |--- Age >  6.50\n",
      "|   |   |--- Pclass_1 <= 0.50\n",
      "|   |   |   |--- class: 0\n",
      "|   |   |--- Pclass_1 >  0.50\n",
      "|   |   |   |--- class: 0\n",
      "\n"
     ]
    }
   ],
   "source": [
    "train, validate = train_test_split(titanic_data, test_size=0.2, random_state=42)\n",
    "predictors = [\"Age\"] + gender_categories + class_categories\n",
    "prediction = \"Survived\"\n",
    "\n",
    "x = train[predictors]\n",
    "y = train[[prediction]].values\n",
    "\n",
    "decision_tree = tree.DecisionTreeClassifier(max_depth=3, random_state=42)\n",
    "decision_tree.fit(x, y)\n",
    "\n",
    "print(tree.export_text(decision_tree, feature_names=predictors))"
   ]
  },
  {
   "cell_type": "code",
   "execution_count": 11,
   "metadata": {},
   "outputs": [
    {
     "name": "stdout",
     "output_type": "stream",
     "text": [
      "\"Women and children first (as long as you are 1st class)\" hypothesis has accuracy of: 80.45%\n"
     ]
    }
   ],
   "source": [
    "predictions = decision_tree.predict(validate[predictors])\n",
    "actuals = validate[[prediction]].values\n",
    "\n",
    "score = accuracy_score(actuals, predictions)\n",
    "print(f'\"Women and children first (as long as you are 1st class)\" hypothesis has accuracy of: {score *100:.2f}%')"
   ]
  }
 ],
 "metadata": {
  "kernelspec": {
   "display_name": "Python 3",
   "language": "python",
   "name": "python3"
  },
  "language_info": {
   "codemirror_mode": {
    "name": "ipython",
    "version": 3
   },
   "file_extension": ".py",
   "mimetype": "text/x-python",
   "name": "python",
   "nbconvert_exporter": "python",
   "pygments_lexer": "ipython3",
   "version": "3.12.6"
  }
 },
 "nbformat": 4,
 "nbformat_minor": 2
}
